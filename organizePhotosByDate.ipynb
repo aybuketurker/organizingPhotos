{
 "cells": [
  {
   "cell_type": "code",
   "execution_count": 95,
   "metadata": {
    "collapsed": false
   },
   "outputs": [
    {
     "name": "stdout",
     "output_type": "stream",
     "text": [
      "/Volumes/NO NAME/DCIM/101CANON/Wed Sep 27 \n"
     ]
    },
    {
     "ename": "Error",
     "evalue": "Cannot move a directory '/Volumes/NO NAME/DCIM/101CANON/Wed Sep 27 ' into itself '/Volumes/NO NAME/DCIM/101CANON/Wed Sep 27 /Wed Sep 27 '.",
     "output_type": "error",
     "traceback": [
      "\u001b[0;31m---------------------------------------------------------------------------\u001b[0m",
      "\u001b[0;31mOSError\u001b[0m                                   Traceback (most recent call last)",
      "\u001b[0;32m/Users/aybuke/anaconda3/lib/python3.5/shutil.py\u001b[0m in \u001b[0;36mmove\u001b[0;34m(src, dst, copy_function)\u001b[0m\n\u001b[1;32m    543\u001b[0m     \u001b[0;32mtry\u001b[0m\u001b[0;34m:\u001b[0m\u001b[0;34m\u001b[0m\u001b[0m\n\u001b[0;32m--> 544\u001b[0;31m         \u001b[0mos\u001b[0m\u001b[0;34m.\u001b[0m\u001b[0mrename\u001b[0m\u001b[0;34m(\u001b[0m\u001b[0msrc\u001b[0m\u001b[0;34m,\u001b[0m \u001b[0mreal_dst\u001b[0m\u001b[0;34m)\u001b[0m\u001b[0;34m\u001b[0m\u001b[0m\n\u001b[0m\u001b[1;32m    545\u001b[0m     \u001b[0;32mexcept\u001b[0m \u001b[0mOSError\u001b[0m\u001b[0;34m:\u001b[0m\u001b[0;34m\u001b[0m\u001b[0m\n",
      "\u001b[0;31mOSError\u001b[0m: [Errno 22] Invalid argument: '/Volumes/NO NAME/DCIM/101CANON/Wed Sep 27 ' -> '/Volumes/NO NAME/DCIM/101CANON/Wed Sep 27 /Wed Sep 27 '",
      "\nDuring handling of the above exception, another exception occurred:\n",
      "\u001b[0;31mError\u001b[0m                                     Traceback (most recent call last)",
      "\u001b[0;32m<ipython-input-95-4291b0edabba>\u001b[0m in \u001b[0;36m<module>\u001b[0;34m()\u001b[0m\n\u001b[1;32m     32\u001b[0m         \u001b[0mprint\u001b[0m\u001b[0;34m(\u001b[0m\u001b[0mold_image_path\u001b[0m\u001b[0;34m)\u001b[0m\u001b[0;34m\u001b[0m\u001b[0m\n\u001b[1;32m     33\u001b[0m         \u001b[0mnew_image_path\u001b[0m \u001b[0;34m=\u001b[0m \u001b[0mos\u001b[0m\u001b[0;34m.\u001b[0m\u001b[0mpath\u001b[0m\u001b[0;34m.\u001b[0m\u001b[0mjoin\u001b[0m\u001b[0;34m(\u001b[0m\u001b[0mnew_path\u001b[0m\u001b[0;34m,\u001b[0m\u001b[0mname\u001b[0m\u001b[0;34m)\u001b[0m\u001b[0;34m\u001b[0m\u001b[0m\n\u001b[0;32m---> 34\u001b[0;31m         \u001b[0mshutil\u001b[0m\u001b[0;34m.\u001b[0m\u001b[0mmove\u001b[0m\u001b[0;34m(\u001b[0m\u001b[0mold_image_path\u001b[0m\u001b[0;34m,\u001b[0m \u001b[0mnew_image_path\u001b[0m\u001b[0;34m)\u001b[0m\u001b[0;34m\u001b[0m\u001b[0m\n\u001b[0m\u001b[1;32m     35\u001b[0m \u001b[0;34m\u001b[0m\u001b[0m\n\u001b[1;32m     36\u001b[0m \u001b[0;34m\u001b[0m\u001b[0m\n",
      "\u001b[0;32m/Users/aybuke/anaconda3/lib/python3.5/shutil.py\u001b[0m in \u001b[0;36mmove\u001b[0;34m(src, dst, copy_function)\u001b[0m\n\u001b[1;32m    551\u001b[0m             \u001b[0;32mif\u001b[0m \u001b[0m_destinsrc\u001b[0m\u001b[0;34m(\u001b[0m\u001b[0msrc\u001b[0m\u001b[0;34m,\u001b[0m \u001b[0mdst\u001b[0m\u001b[0;34m)\u001b[0m\u001b[0;34m:\u001b[0m\u001b[0;34m\u001b[0m\u001b[0m\n\u001b[1;32m    552\u001b[0m                 raise Error(\"Cannot move a directory '%s' into itself\"\n\u001b[0;32m--> 553\u001b[0;31m                             \" '%s'.\" % (src, dst))\n\u001b[0m\u001b[1;32m    554\u001b[0m             copytree(src, real_dst, copy_function=copy_function,\n\u001b[1;32m    555\u001b[0m                      symlinks=True)\n",
      "\u001b[0;31mError\u001b[0m: Cannot move a directory '/Volumes/NO NAME/DCIM/101CANON/Wed Sep 27 ' into itself '/Volumes/NO NAME/DCIM/101CANON/Wed Sep 27 /Wed Sep 27 '."
     ]
    }
   ],
   "source": [
    "#theGoal is to categorize my images based on the time taken from my camera. \n",
    "\n",
    "#steps\n",
    "#read the files (will add only the JPEG later )\n",
    "#read the times\n",
    "#create new folders based ontimes\n",
    "#move the corresponding images to the folders\n",
    "#\n",
    "\n",
    "\n",
    "import os, time\n",
    "import os.path\n",
    "import shutil\n",
    "import glob\n",
    "#cwd = os.getcwd()\n",
    "\n",
    "folder_path = '/Volumes/NO NAME/DCIM/101CANON'\n",
    "\n",
    "\n",
    "for file in os.scandir(folder_path):\n",
    "    photoList = []\n",
    "    name = file.name\n",
    "    #print(name)\n",
    "    st = file.stat().st_ctime\n",
    "    photoList.append((name, st))\n",
    "    photoList.sort(key=lambda pair: pair[1])\n",
    "    #print(l)\n",
    "    for i in photoList:\n",
    "        image = \"%43s, %25s\" % (i[0], time.ctime(i[1])) #get the epoc time\n",
    "        folder_name = image.split(',')[-1][2:13] #split the name so the folder name is the creation date \n",
    "        new_path = os.path.join(folder_path,folder_name) #define the path\n",
    "        if not os.path.exists(new_path): #if no such a path, create a new one\n",
    "            os.makedirs(new_path)\n",
    "        old_image_path = os.path.join(folder_path,name)\n",
    "        print(old_image_path)\n",
    "        new_image_path = os.path.join(new_path,name)\n",
    "        shutil.move(old_image_path, new_image_path)\n",
    "    \n",
    "\n",
    "\n"
   ]
  }
 ],
 "metadata": {
  "kernelspec": {
   "display_name": "Python [default]",
   "language": "python",
   "name": "python3"
  },
  "language_info": {
   "codemirror_mode": {
    "name": "ipython",
    "version": 3
   },
   "file_extension": ".py",
   "mimetype": "text/x-python",
   "name": "python",
   "nbconvert_exporter": "python",
   "pygments_lexer": "ipython3",
   "version": "3.5.3"
  }
 },
 "nbformat": 4,
 "nbformat_minor": 1
}
