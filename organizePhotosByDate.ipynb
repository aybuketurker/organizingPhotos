{
 "cells": [
  {
   "cell_type": "code",
   "execution_count": 97,
   "metadata": {
    "collapsed": false
   },
   "outputs": [],
   "source": [
    "#theGoal is to categorize my images based on the time taken from my camera. \n",
    "\n",
    "#steps\n",
    "#read the files (will add only the JPEG later )\n",
    "#read the times\n",
    "#create new folders based ontimes\n",
    "#move the corresponding images to the folders\n",
    "\n",
    "import os, time\n",
    "import os.path\n",
    "import shutil\n",
    "import glob\n",
    "\n",
    "folder_path = '/Users/aybuke/Documents/TEST3'\n",
    "\n",
    "\n",
    "for file in os.scandir(folder_path):\n",
    "    photoList = []\n",
    "    name = file.name\n",
    "    #print(name)\n",
    "    st = file.stat().st_ctime\n",
    "    photoList.append((name, st))\n",
    "    photoList.sort(key=lambda pair: pair[1])\n",
    "    #print(l)\n",
    "    for i in photoList:\n",
    "        image = \"%43s, %25s\" % (i[0], time.ctime(i[1])) #get the epoc time\n",
    "        folder_name = image.split(',')[-1][2:13] #split the name so the folder name is the creation date \n",
    "        new_path = os.path.join(folder_path,folder_name) #define the path\n",
    "        if not os.path.exists(new_path): #if no such a path, create a new one\n",
    "            os.makedirs(new_path)\n",
    "        old_image_path = os.path.join(folder_path,name)\n",
    "        #print(old_image_path)\n",
    "        new_image_path = os.path.join(new_path,name)\n",
    "        #shutil.move(old_image_path, new_image_path)\n",
    "    \n",
    "\n",
    "\n"
   ]
  }
 ],
 "metadata": {
  "anaconda-cloud": {},
  "kernelspec": {
   "display_name": "Python [default]",
   "language": "python",
   "name": "python3"
  },
  "language_info": {
   "codemirror_mode": {
    "name": "ipython",
    "version": 3
   },
   "file_extension": ".py",
   "mimetype": "text/x-python",
   "name": "python",
   "nbconvert_exporter": "python",
   "pygments_lexer": "ipython3",
   "version": "3.5.3"
  }
 },
 "nbformat": 4,
 "nbformat_minor": 1
}
